{
 "cells": [
  {
   "cell_type": "code",
   "execution_count": 8,
   "metadata": {},
   "outputs": [],
   "source": [
    "# Import Python libraries and helper functions (in utils2) \n",
    "import nltk\n",
    "from nltk.tokenize import word_tokenize\n",
    "import numpy as np\n",
    "from collections import Counter\n",
    "from utils2 import sigmoid, get_batches, compute_pca, get_dict\n",
    "import torch\n",
    "import torch.nn as nn\n",
    "import torch.nn.functional as F\n",
    "import torch.optim as optim"
   ]
  },
  {
   "cell_type": "code",
   "execution_count": 9,
   "metadata": {},
   "outputs": [],
   "source": [
    "# Download sentence tokenizer\n",
    "nltk.data.path.append('.')"
   ]
  },
  {
   "cell_type": "code",
   "execution_count": 10,
   "metadata": {},
   "outputs": [
    {
     "name": "stdout",
     "output_type": "stream",
     "text": [
      "Number of tokens: 60975 \n",
      " ['o', 'for', 'a', 'muse', 'of', 'fire', '.', 'that', 'would', 'ascend', 'the', 'brightest', 'heaven', 'of', 'invention']\n"
     ]
    }
   ],
   "source": [
    "# Load, tokenize and process the data\n",
    "import re                                                           #  Load the Regex-modul\n",
    "with open('shakespeare.txt') as f:\n",
    "    data = f.read()                                                 #  Read in the data\n",
    "data = re.sub(r'[,!?;-]', '.',data)                                 #  Punktuations are replaced by .\n",
    "data = nltk.word_tokenize(data)                                     #  Tokenize string to words\n",
    "data = [ ch.lower() for ch in data if ch.isalpha() or ch == '.']    #  Lower case and drop non-alphabetical tokens\n",
    "print(\"Number of tokens:\", len(data),'\\n', data[:15])               #  print data sample"
   ]
  },
  {
   "cell_type": "code",
   "execution_count": 11,
   "metadata": {},
   "outputs": [
    {
     "name": "stdout",
     "output_type": "stream",
     "text": [
      "Size of vocabulary:  5777\n"
     ]
    }
   ],
   "source": [
    "# get_dict creates two dictionaries, converting words to indices and viceversa.\n",
    "word2Ind, Ind2word = get_dict(data)\n",
    "V = len(word2Ind)\n",
    "print(\"Size of vocabulary: \", V)"
   ]
  },
  {
   "cell_type": "code",
   "execution_count": 12,
   "metadata": {},
   "outputs": [
    {
     "name": "stdout",
     "output_type": "stream",
     "text": [
      "Net(\n",
      "  (fc1): Linear(in_features=5777, out_features=50, bias=True)\n",
      "  (fc2): Linear(in_features=50, out_features=5777, bias=True)\n",
      ")\n"
     ]
    }
   ],
   "source": [
    "class Net(nn.Module):\n",
    "    def __init__(self):\n",
    "        super(Net, self).__init__()\n",
    "        self.fc1 = nn.Linear(5777,50)\n",
    "        self.fc2 = nn.Linear(50,5777)\n",
    "        \n",
    "    def forward(self, x):\n",
    "        # Pass the input tensor through each of our operations\n",
    "        x = F.relu(self.fc1(x))\n",
    "        x = F.log_softmax(self.fc2(x))\n",
    "        return x\n",
    "net = Net()\n",
    "print(net) "
   ]
  },
  {
   "cell_type": "code",
   "execution_count": 13,
   "metadata": {},
   "outputs": [],
   "source": [
    "criterion = nn.CrossEntropyLoss()\n",
    "optimizer = optim.SGD(net.parameters(), lr=0.003, momentum=0.9)"
   ]
  },
  {
   "cell_type": "code",
   "execution_count": 14,
   "metadata": {},
   "outputs": [
    {
     "name": "stderr",
     "output_type": "stream",
     "text": [
      "/Users/abdulsalamyazid/opt/miniconda3/lib/python3.7/site-packages/ipykernel_launcher.py:10: UserWarning: Implicit dimension choice for log_softmax has been deprecated. Change the call to include dim=X as an argument.\n",
      "  # Remove the CWD from sys.path while we load stuff.\n"
     ]
    },
    {
     "name": "stdout",
     "output_type": "stream",
     "text": [
      "iters: 10 cost: 8.492229\n",
      "iters: 20 cost: 8.242281\n",
      "iters: 30 cost: 7.938903\n",
      "iters: 40 cost: 7.603908\n",
      "iters: 50 cost: 7.234701\n",
      "iters: 60 cost: 6.813603\n",
      "iters: 70 cost: 6.306328\n",
      "iters: 80 cost: 5.653570\n",
      "iters: 90 cost: 4.756248\n",
      "iters: 100 cost: 3.461766\n",
      "iters: 110 cost: 1.673826\n",
      "iters: 120 cost: 0.310009\n",
      "iters: 130 cost: 0.056559\n",
      "iters: 140 cost: 0.023047\n",
      "iters: 150 cost: 0.015124\n",
      "iters: 160 cost: 0.012221\n",
      "iters: 170 cost: 0.010759\n",
      "iters: 180 cost: 0.009818\n",
      "iters: 190 cost: 0.009107\n",
      "iters: 200 cost: 0.008522\n",
      "iters: 210 cost: 0.008018\n",
      "iters: 220 cost: 0.007569\n",
      "iters: 230 cost: 0.007173\n",
      "iters: 240 cost: 0.006812\n",
      "iters: 250 cost: 0.006487\n",
      "iters: 260 cost: 0.006193\n",
      "iters: 270 cost: 0.005919\n",
      "iters: 280 cost: 0.005672\n",
      "iters: 290 cost: 0.005442\n",
      "iters: 300 cost: 0.005230\n"
     ]
    }
   ],
   "source": [
    "batch_size = 1\n",
    "iters = 0\n",
    "num_iters = 300\n",
    "C = 2\n",
    "for x, y in get_batches(data, word2Ind, V, C, batch_size):\n",
    "    optimizer.zero_grad()\n",
    "    x = (torch.from_numpy(x)).float()\n",
    "    y = (torch.from_numpy(y)).float()\n",
    "    x = torch.transpose(x,0,1)\n",
    "    y = torch.transpose(y,0,1)\n",
    "    y = torch.argmax(y, dim=1)\n",
    "    outputs = net(x)\n",
    "    loss = criterion(outputs, y)\n",
    "    if ((iters+1) % 10 == 0):\n",
    "        print(f\"iters: {iters + 1} cost: {loss:.6f}\")\n",
    "    loss.backward()\n",
    "    optimizer.step()\n",
    "        \n",
    "    iters += 1\n",
    "    if iters == num_iters:\n",
    "        break"
   ]
  },
  {
   "cell_type": "markdown",
   "metadata": {},
   "source": []
  },
  {
   "cell_type": "code",
   "execution_count": null,
   "metadata": {},
   "outputs": [],
   "source": []
  }
 ],
 "metadata": {
  "kernelspec": {
   "display_name": "Python 3",
   "language": "python",
   "name": "python3"
  },
  "language_info": {
   "codemirror_mode": {
    "name": "ipython",
    "version": 3
   },
   "file_extension": ".py",
   "mimetype": "text/x-python",
   "name": "python",
   "nbconvert_exporter": "python",
   "pygments_lexer": "ipython3",
   "version": "3.7.7"
  }
 },
 "nbformat": 4,
 "nbformat_minor": 4
}
